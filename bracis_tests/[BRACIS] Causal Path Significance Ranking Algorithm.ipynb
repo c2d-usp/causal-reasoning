{
 "cells": [
  {
   "cell_type": "code",
   "execution_count": 1,
   "id": "0f6bf792-16c5-4d03-a408-13c2eb789fa0",
   "metadata": {},
   "outputs": [],
   "source": [
    "import numpy as np\n",
    "import pandas as pd"
   ]
  },
  {
   "cell_type": "markdown",
   "id": "7c13cca8-7c60-4012-bf25-0ef53b7ad029",
   "metadata": {},
   "source": [
    "# Causal Path Significance Ranking Algorithm\n",
    "\n",
    "Our goal is to build up an algorithm to rank causal paths by their \"significance\" using PNS (Probability of Necessity and Sufficiency) scores. PNS (Probability of Necessity and Sufficiency) is a causal importance metric – it “measures both the sufficiency and necessity of X to produce Y” for a given cause-effect pair.\n",
    "\n",
    "We implement a Python algorithm to analyze the causal DAG and rank the most significant causal paths leading to the target incident. The algorithm takes as input the DAG structure, a dictionary of PNS scores for each node, and the specified target variable (incident). \n",
    "\n",
    "We assume we already have a PNS-like score for each variable indicating its importance in causing the incident."
   ]
  },
  {
   "cell_type": "markdown",
   "id": "be7ac302-3873-4ef2-9541-5daf06558bdc",
   "metadata": {},
   "source": [
    "The algorithm performs a Depth-First Search (DFS) backwards from the target node through the DAG (following parent links) to enumerate all causal paths ending in the target. For each path found (from some root cause node to the target), it computes a \"path significance\" score by summing the PNS scores of all nodes on that path, with an extra weight applied to the root cause’s score (by default, weight = 2, meaning the root cause’s contribution is doubled). The idea is to prioritize paths where the initial cause is especially critical. The paths are then ranked by this significance score in descending order. \n",
    "\n",
    "Below is the implementation:"
   ]
  },
  {
   "cell_type": "code",
   "execution_count": 2,
   "id": "37f432a9-dbb7-4c77-ba59-a3108b7d408f",
   "metadata": {},
   "outputs": [],
   "source": [
    "def rank_causal_paths(dag, pns_scores, target, root_weight=2):\n",
    "    \"\"\"\n",
    "    Rank causal paths in a DAG from any root node to the given target node by their significance.\n",
    "    \n",
    "    Parameters:\n",
    "        - dag (dict): Adjacency list of the DAG, where dag[u] = [v1, v2, ...] \n",
    "                    means u -> v1, u -> v2 are directed edges.\n",
    "                    (Every node in the DAG should appear as a key, even if it \n",
    "                    has an empty list of children.)\n",
    "                    \n",
    "        - pns_scores (dict): Mapping from node name to its PNS score.\n",
    "        \n",
    "        - target (hashable): The target node for which we trace back causal paths \n",
    "                            (e.g., the incident variable).\n",
    "                            \n",
    "        - root_weight (float): A weighting factor for the root cause's PNS score in a path\n",
    "                            (default 2.0, meaning root cause counts double).\n",
    "    \n",
    "    Returns:\n",
    "        List of tuples [(path, path_score), ...] sorted by path_score in descending order.\n",
    "        Each path is represented as a list of nodes from the root to the target.\n",
    "    \"\"\"\n",
    "    \n",
    "    # Build a parent adjacency list from the child adjacency list (dag)\n",
    "    parents = {node: [] for node in dag}\n",
    "    for parent, children in dag.items():\n",
    "        for child in children:\n",
    "            parents.setdefault(child, []).append(parent)\n",
    "    # Ensure every node appears in parents (even if no parents)\n",
    "    for node in dag:\n",
    "        parents.setdefault(node, [])\n",
    "    \n",
    "    # Use DFS to find all paths from any root to the target\n",
    "    all_paths = []\n",
    "    def dfs_back(node, current_path):\n",
    "        current_path.insert(0, node)  # prepend current node to the path\n",
    "        if len(parents[node]) == 0:  # no parent means this is a root cause\n",
    "            all_paths.append(current_path.copy())\n",
    "        else:\n",
    "            for par in parents[node]:\n",
    "                dfs_back(par, current_path.copy())\n",
    "    \n",
    "    dfs_back(target, [])\n",
    "    \n",
    "    # Compute significance score for each path\n",
    "    path_scores = []\n",
    "    for path in all_paths:\n",
    "        # exclude the target node itself when summing scores (target's PNS is not relevant for causing itself)\n",
    "        if len(path) <= 1:\n",
    "            continue  # no causative nodes if path is just the target\n",
    "        root = path[0]\n",
    "        # Sum PNS scores for all non-target nodes in the path\n",
    "        score_sum = 0.0\n",
    "        for node in path[:-1]:  # all nodes except the target (last one)\n",
    "            score_sum += pns_scores.get(node, 0.0)\n",
    "        # Apply extra weight to the root cause's score\n",
    "        if root in pns_scores:\n",
    "            score_sum += (root_weight - 1) * pns_scores[root]\n",
    "        path_scores.append((path, score_sum))\n",
    "        \n",
    "    # Sort paths by descending score\n",
    "    path_scores.sort(key=lambda x: x[1], reverse=True)\n",
    "    \n",
    "    return path_scores"
   ]
  },
  {
   "cell_type": "markdown",
   "id": "c4ddfb4e-757c-435b-acdc-7eb6edbd6bea",
   "metadata": {},
   "source": [
    "**Exemple usage** with Model 1, the small-scale outage incident:"
   ]
  },
  {
   "cell_type": "code",
   "execution_count": 3,
   "id": "b4e571f8-c6d2-4ec5-b947-cc965ba836c5",
   "metadata": {},
   "outputs": [],
   "source": [
    "example_dag = {\n",
    "    \"Deploy_NewVersion\": [\"MemoryLeakBug\"],\n",
    "    \"MemoryLeakBug\": [\"MemoryUsageHigh\"],\n",
    "    \"MemoryUsageHigh\": [\"ServiceCrash\"],\n",
    "    \"ServiceCrash\": [\"OutageIncident\"],\n",
    "    \"OutageIncident\": [], # target has no children\n",
    "    # HeavyTraffic latent included in DAG for completeness:\n",
    "    \"HeavyTraffic\": [\"MemoryUsageHigh\", \"ServiceCrash\"]\n",
    "}\n",
    "\n",
    "example_pns = {\n",
    "    \"Deploy_NewVersion\": 0.8,\n",
    "    \"MemoryLeakBug\": 0.9,\n",
    "    \"MemoryUsageHigh\": 0.5,\n",
    "    \"ServiceCrash\": 0.6,\n",
    "    \"HeavyTraffic\": 0.3\n",
    "    # OutageIncident (target) can be omitted or assigned 0, it's not used in scoring\n",
    "}"
   ]
  },
  {
   "cell_type": "code",
   "execution_count": 9,
   "id": "2f285d00-77dd-4a84-a476-b3e5f1ac0542",
   "metadata": {},
   "outputs": [],
   "source": [
    "result_paths = rank_causal_paths(example_dag, example_pns, target=\"OutageIncident\", root_weight=1)"
   ]
  },
  {
   "cell_type": "code",
   "execution_count": 10,
   "id": "4a338912-47d2-4c47-b640-ce7fdffbf4b2",
   "metadata": {},
   "outputs": [
    {
     "name": "stdout",
     "output_type": "stream",
     "text": [
      "Path: Deploy_NewVersion -> MemoryLeakBug -> MemoryUsageHigh -> ServiceCrash -> OutageIncident\n",
      "Path Significance Score: 2.80\n",
      "-----\n",
      "Path: HeavyTraffic -> MemoryUsageHigh -> ServiceCrash -> OutageIncident\n",
      "Path Significance Score: 1.40\n",
      "-----\n",
      "Path: HeavyTraffic -> ServiceCrash -> OutageIncident\n",
      "Path Significance Score: 0.90\n",
      "-----\n"
     ]
    }
   ],
   "source": [
    "for path, score in result_paths:\n",
    "    print(f\"Path: {' -> '.join(path)}\")\n",
    "    print(f\"Path Significance Score: {score:.2f}\")\n",
    "    print(\"-----\")"
   ]
  },
  {
   "cell_type": "markdown",
   "id": "740819c8-679c-44bd-b1ac-4fd7d2ac2f31",
   "metadata": {},
   "source": [
    "This indicates the top-ranked path is the one starting from Deploy_NewVersion (the deployment with bug) leading to the outage, with a higher significance score. The other paths involving the latent heavy traffic are ranked lower due to the lower PNS score for HeavyTraffic in this example. In a real analysis, one would interpret this output as identifying the deployment bug as the most significant causal chain for the incident, compared to other possible causes like a pure traffic overload path."
   ]
  },
  {
   "cell_type": "code",
   "execution_count": null,
   "id": "631deb7c-112d-4295-bb5c-65d894ab6c4d",
   "metadata": {},
   "outputs": [],
   "source": []
  }
 ],
 "metadata": {
  "kernelspec": {
   "display_name": "pywhy",
   "language": "python",
   "name": ".pywhy"
  },
  "language_info": {
   "codemirror_mode": {
    "name": "ipython",
    "version": 3
   },
   "file_extension": ".py",
   "mimetype": "text/x-python",
   "name": "python",
   "nbconvert_exporter": "python",
   "pygments_lexer": "ipython3",
   "version": "3.10.0"
  }
 },
 "nbformat": 4,
 "nbformat_minor": 5
}
