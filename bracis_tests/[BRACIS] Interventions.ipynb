{
 "cells": [
  {
   "cell_type": "code",
   "execution_count": 1,
   "id": "32fcb737",
   "metadata": {},
   "outputs": [],
   "source": [
    "import pandas as pd\n",
    "import logging\n",
    "import networkx as nx\n",
    "import time\n",
    "\n",
    "\n",
    "from causal_reasoning.causal_model import CausalModel"
   ]
  },
  {
   "cell_type": "code",
   "execution_count": 2,
   "id": "bf5784e8",
   "metadata": {},
   "outputs": [],
   "source": [
    "class Query:\n",
    "    def __init__(self, inter_label: str, inter_value: int, target_label: str, target_value: int, query_value: float) -> None:\n",
    "        self.intervention_label = inter_label\n",
    "        self.intervention_value = inter_value\n",
    "        self.target_label = target_label\n",
    "        self.target_value = target_value\n",
    "        self.query = query_value\n",
    "\n",
    "def run_queries(nodes_set: set, model: CausalModel, output_path: str):\n",
    "    with open(output_path, 'w') as file:\n",
    "        queries = []\n",
    "        for intervention in nodes_set:\n",
    "            for target in nodes_set:\n",
    "                if intervention == target:\n",
    "                    continue\n",
    "                for intervention_value in range(2):\n",
    "                    for target_value in range(2):\n",
    "                        model.set_interventions([(intervention, intervention_value)])\n",
    "                        model.set_target((target, target_value))\n",
    "                        start = time.perf_counter()\n",
    "                        query = model.inference_intervention_query()\n",
    "                        end = time.perf_counter()\n",
    "                        queries.append(Query(intervention, intervention_value, target, target_value, query))\n",
    "                        file.write(f\"P({target}={target_value}|do({intervention}={intervention_value}))\\n\")\n",
    "                        file.write(f\"{query[0]} <= P <= {query[1]}\\n\")\n",
    "                        file.write(f\"Inference time taken: {end-start:.6f} seconds\\n\")\n",
    "                        file.write(\"---------------------------------------------------------\\n\")"
   ]
  },
  {
   "cell_type": "markdown",
   "id": "fa746d00",
   "metadata": {},
   "source": [
    "## First Model"
   ]
  },
  {
   "cell_type": "code",
   "execution_count": 3,
   "id": "ca736e38",
   "metadata": {},
   "outputs": [],
   "source": [
    "edges_list_1 = [\n",
    "    ('NewDeploy', 'MemoryLeak'),\n",
    "    ('MemoryLeak', 'MemoryUsageHigh'), \n",
    "    (\"MemoryUsageHigh\", \"ServiceCrash\"), \n",
    "    (\"ServiceCrash\", \"OutageIncident\"),\n",
    "    (\"HeavyTraffic\", \"MemoryUsageHigh\"), \n",
    "    (\"HeavyTraffic\", \"ServiceCrash\"),\n",
    "    # UNOBS\n",
    "    ('Unob_helper_1', 'MemoryLeak'),\n",
    "    ('Unob_helper_2', 'OutageIncident'),\n",
    "    ('Unob_helper_3', 'NewDeploy'),\n",
    "]\n",
    "latent_nodes_1 = ['HeavyTraffic', 'Unob_helper_1', 'Unob_helper_2', 'Unob_helper_3']\n",
    "nodes_set_1 = set()\n",
    "for tuple in edges_list_1:\n",
    "    if tuple[0] not in latent_nodes_1:\n",
    "        nodes_set_1.add(tuple[0])\n",
    "    if tuple[1] not in latent_nodes_1:\n",
    "        nodes_set_1.add(tuple[1])\n",
    "\n",
    "edges_1 = nx.DiGraph(edges_list_1)\n",
    "\n",
    "df_small_scale_model = pd.read_csv(\"small_scale_outage_incident_seed42.csv\", index_col=0)"
   ]
  },
  {
   "cell_type": "code",
   "execution_count": 4,
   "id": "55bad013",
   "metadata": {},
   "outputs": [],
   "source": [
    "model_1 = CausalModel(\n",
    "    data=df_small_scale_model,\n",
    "    edges=edges_1,\n",
    "    unobservables_labels=latent_nodes_1,\n",
    ")\n",
    "run_queries(nodes_set_1, model_1, \"output_small_scale_outage_incident_seed42.txt\")"
   ]
  },
  {
   "cell_type": "markdown",
   "id": "4a824ea8",
   "metadata": {},
   "source": [
    "## Second Model\n"
   ]
  },
  {
   "cell_type": "code",
   "execution_count": 5,
   "id": "fdff8695",
   "metadata": {},
   "outputs": [],
   "source": [
    "edges_list_2 = [\n",
    "    (\"DB_Change\", \"DB_Latency\"),\n",
    "    (\"DB_Latency\", \"MS-B_Latency\"), \n",
    "    (\"MS-B_Latency\", \"MS-B_Error\"), \n",
    "    (\"MS-B_Latency\", \"MS-A_Latency\"),\n",
    "    (\"MS-B_Error\", \"MS-A_Error\"), \n",
    "    (\"MS-A_Latency\", \"MS-A_Threads\"), \n",
    "    (\"MS-A_Threads\", \"MS-A_Crash\"), \n",
    "    (\"MS-A_Error\", \"Outage\"), \n",
    "    (\"MS-A_Crash\", \"Outage\"), \n",
    "    (\"HeavyTraffic\", \"DB_Latency\"), \n",
    "    (\"HeavyTraffic\", \"MS-A_Latency\"),\n",
    "    # UNOBS\n",
    "    ('Unob_helper_1', 'DB_Change'),\n",
    "    ('Unob_helper_2', 'MS-B_Latency'),\n",
    "    ('Unob_helper_3', 'MS-B_Error'),\n",
    "    ('Unob_helper_4', 'MS-A_Error'),\n",
    "    ('Unob_helper_5', 'MS-A_Threads'),\n",
    "    ('Unob_helper_6', 'MS-A_Crash'),\n",
    "    ('Unob_helper_7', 'Outage'),\n",
    "]\n",
    "\n",
    "latent_nodes_2 = ['HeavyTraffic', 'Unob_helper_1', 'Unob_helper_2', 'Unob_helper_3', 'Unob_helper_4', 'Unob_helper_5', 'Unob_helper_6', 'Unob_helper_7']\n",
    "nodes_set_2 = set()\n",
    "for tuple in edges_list_2:\n",
    "    if tuple[0] not in latent_nodes_2:\n",
    "        nodes_set_2.add(tuple[0])\n",
    "    if tuple[1] not in latent_nodes_2:\n",
    "        nodes_set_2.add(tuple[1])\n",
    "\n",
    "edges_2 = nx.DiGraph(edges_list_2)\n",
    "\n",
    "df_medium_scale_incident = pd.read_csv(\"medium_scale_outage_incident_seed42.csv\", index_col=0)"
   ]
  },
  {
   "cell_type": "code",
   "execution_count": 6,
   "id": "32b8c185",
   "metadata": {},
   "outputs": [],
   "source": [
    "model_2 = CausalModel(\n",
    "    data=df_medium_scale_incident,\n",
    "    edges=edges_2,\n",
    "    unobservables_labels=latent_nodes_2,\n",
    ")\n",
    "run_queries(nodes_set_2, model_2, \"output_medium_scale_outage_incident_seed42.txt\")"
   ]
  },
  {
   "cell_type": "code",
   "execution_count": null,
   "id": "282765a9",
   "metadata": {},
   "outputs": [],
   "source": [
    "\n"
   ]
  }
 ],
 "metadata": {
  "kernelspec": {
   "display_name": "causal-reasoning-CkLRd_GN-py3.10",
   "language": "python",
   "name": "python3"
  },
  "language_info": {
   "codemirror_mode": {
    "name": "ipython",
    "version": 3
   },
   "file_extension": ".py",
   "mimetype": "text/x-python",
   "name": "python",
   "nbconvert_exporter": "python",
   "pygments_lexer": "ipython3",
   "version": "3.10.12"
  }
 },
 "nbformat": 4,
 "nbformat_minor": 5
}
