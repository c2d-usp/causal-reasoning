{
 "cells": [
  {
   "cell_type": "code",
   "execution_count": 13,
   "id": "9fcf6b24",
   "metadata": {},
   "outputs": [],
   "source": [
    "import networkx as nx\n",
    "import pandas as pd\n",
    "import numpy as np\n",
    "from bcause.models.cmodel import StructuralCausalModel\n",
    "import bcause.util.domainutils as dutils\n",
    "from bcause.factors import DeterministicFactor, MultinomialFactor\n",
    "from bcause.inference.causal.elimination import CausalVariableElimination\n",
    "from bcause.inference.causal.multi import EMCC\n",
    "from bcause.util import randomUtil"
   ]
  },
  {
   "cell_type": "code",
   "execution_count": 14,
   "id": "c61fc32f",
   "metadata": {},
   "outputs": [],
   "source": [
    "edges_list_2 = [\n",
    "    (\"DB_Change\", \"DB_Latency\"),\n",
    "    (\"DB_Latency\", \"MS-B_Latency\"), \n",
    "    (\"MS-B_Latency\", \"MS-B_Error\"), \n",
    "    (\"MS-B_Latency\", \"MS-A_Latency\"),\n",
    "    (\"MS-B_Error\", \"MS-A_Error\"), \n",
    "    (\"MS-A_Latency\", \"MS-A_Threads\"), \n",
    "    (\"MS-A_Threads\", \"MS-A_Crash\"), \n",
    "    (\"MS-A_Error\", \"Outage\"), \n",
    "    (\"MS-A_Crash\", \"Outage\"), \n",
    "    (\"HeavyTraffic\", \"DB_Latency\"), \n",
    "    (\"HeavyTraffic\", \"MS-A_Latency\"),\n",
    "    ('Unob_DB_Change', 'DB_Change'),\n",
    "    ('Unob_MS-B_Latency', 'MS-B_Latency'),\n",
    "    ('Unob_MS-B_Error', 'MS-B_Error'),\n",
    "    ('Unob_MS-A_Error', 'MS-A_Error'),\n",
    "    ('Unob_MS-A_Threads', 'MS-A_Threads'),\n",
    "    ('Unob_MS-A_Crash', 'MS-A_Crash'),\n",
    "    ('Unob_Outage', 'Outage'),\n",
    "]\n",
    "\n",
    "variables = ['DB_Change',\n",
    " 'DB_Latency',\n",
    " 'MS-B_Latency',\n",
    " 'MS-B_Error',\n",
    " 'MS-A_Latency',\n",
    " 'MS-A_Error',\n",
    " 'MS-A_Threads',\n",
    " 'MS-A_Crash',\n",
    " 'Outage',\n",
    " 'HeavyTraffic',\n",
    " 'Unob_DB_Change',\n",
    " 'Unob_MS-B_Latency',\n",
    " 'Unob_MS-B_Error',\n",
    " 'Unob_MS-A_Error',\n",
    " 'Unob_MS-A_Threads',\n",
    " 'Unob_MS-A_Crash',\n",
    " 'Unob_Outage']\n",
    "\n",
    "\n",
    "latent_nodes_2 = ['HeavyTraffic', 'Unob_DB_Change', 'Unob_MS-B_Latency', 'Unob_MS-B_Error', 'Unob_MS-A_Error', 'Unob_MS-A_Threads', 'Unob_MS-A_Crash', 'Unob_Outage']\n",
    "nodes_set_2 = set()\n",
    "for tuple in edges_list_2:\n",
    "    if tuple[0] not in latent_nodes_2:\n",
    "        nodes_set_2.add(tuple[0])\n",
    "    if tuple[1] not in latent_nodes_2:\n",
    "        nodes_set_2.add(tuple[1])\n",
    "\n",
    "dag_2 = nx.DiGraph(edges_list_2)\n",
    "\n",
    "df = pd.read_csv(\"medium_scale_outage_incident_seed42.csv\", index_col=0)"
   ]
  },
  {
   "cell_type": "code",
   "execution_count": 15,
   "id": "699d2fd3",
   "metadata": {},
   "outputs": [],
   "source": [
    "domains = {\n",
    "'DB_Change':[0,1],\n",
    "'DB_Latency':[0,1],\n",
    "'MS-B_Latency':[0,1],\n",
    "'MS-B_Error':[0,1],\n",
    "'MS-A_Latency':[0,1],\n",
    "'MS-A_Error':[0,1],\n",
    "'MS-A_Threads':[0,1],\n",
    "'MS-A_Crash':[0,1],\n",
    "'Outage':[0,1],\n",
    "'HeavyTraffic':list(np.arange(16)),\n",
    "'Unob_DB_Change':list(np.arange(2)),\n",
    "'Unob_MS-B_Latency':list(np.arange(4)),\n",
    "'Unob_MS-B_Error':list(np.arange(4)),\n",
    "'Unob_MS-A_Error':list(np.arange(4)),\n",
    "'Unob_MS-A_Threads':list(np.arange(4)),\n",
    "'Unob_MS-A_Crash':list(np.arange(4)),\n",
    "'Unob_Outage':list(np.arange(16)),\n",
    "}\n",
    "domains_for_each_var = {}\n",
    "for var in variables:\n",
    "    domains_for_each_var[var] = dutils.subdomain(domains, var)"
   ]
  },
  {
   "cell_type": "code",
   "execution_count": null,
   "id": "c01cb9e2",
   "metadata": {},
   "outputs": [],
   "source": [
    "model = StructuralCausalModel(dag_2)\n",
    "# inf = EMCC(model, df, max_iter=100, num_runs=20)\n",
    "# model.variables\n",
    "\n",
    "for var in variables:\n",
    "    model.domains[var] = domains_for_each_var[var]\n"
   ]
  },
  {
   "cell_type": "code",
   "execution_count": 30,
   "id": "1eb0c8ed",
   "metadata": {},
   "outputs": [
    {
     "data": {
      "text/plain": [
       "[]"
      ]
     },
     "execution_count": 30,
     "metadata": {},
     "output_type": "execute_result"
    }
   ],
   "source": [
    "model.get_factors()"
   ]
  },
  {
   "cell_type": "code",
   "execution_count": 26,
   "id": "a823f462",
   "metadata": {},
   "outputs": [],
   "source": [
    "inf = EMCC(model, df, max_iter=100, num_runs=20)"
   ]
  },
  {
   "cell_type": "code",
   "execution_count": null,
   "id": "542a539c",
   "metadata": {},
   "outputs": [],
   "source": [
    "import"
   ]
  }
 ],
 "metadata": {
  "kernelspec": {
   "display_name": "Python 3",
   "language": "python",
   "name": "python3"
  },
  "language_info": {
   "codemirror_mode": {
    "name": "ipython",
    "version": 3
   },
   "file_extension": ".py",
   "mimetype": "text/x-python",
   "name": "python",
   "nbconvert_exporter": "python",
   "pygments_lexer": "ipython3",
   "version": "3.10.12"
  }
 },
 "nbformat": 4,
 "nbformat_minor": 5
}
